{
 "cells": [
  {
   "cell_type": "markdown",
   "metadata": {},
   "source": [
    "This notebook takes a list of Accessions Numbers in a csv file and saves the studies to the specified output path"
   ]
  },
  {
   "cell_type": "code",
   "execution_count": null,
   "metadata": {},
   "outputs": [],
   "source": [
    "acc_csv = \"\"\n",
    "output_dir = \"\"\n",
    "\n",
    "my_ip = ''\n",
    "my_port = \n",
    "my_ae = b''\n",
    "\n",
    "pacs_ip = ''\n",
    "pacs_port = \n",
    "pacs_ae = b''"
   ]
  },
  {
   "cell_type": "code",
   "execution_count": null,
   "metadata": {},
   "outputs": [],
   "source": [
    "import os, csv, datetime\n",
    "import pandas as pd\n",
    "\n",
    "#import tqdm.notebook as tqdm\n",
    "\n",
    "from pydicom import dcmread\n",
    "from pydicom.dataset import Dataset\n",
    "\n",
    "from pynetdicom import AE, evt\n",
    "from pynetdicom.sop_class import StudyRootQueryRetrieveInformationModelFind\n",
    "from pydicom import filewriter\n",
    "from pydicom.uid import ImplicitVRLittleEndian, JPEGBaseline\n",
    "\n",
    "from pynetdicom import AE, evt, StoragePresentationContexts\n",
    "from pynetdicom.sop_class import StudyRootQueryRetrieveInformationModelMove, StudyRootQueryRetrieveInformationModelGet\n",
    "from pynetdicom.sop_class import CTImageStorage, DigitalXRayImageProcessingStorage"
   ]
  },
  {
   "cell_type": "code",
   "execution_count": null,
   "metadata": {},
   "outputs": [],
   "source": [
    "ae = AE(ae_title = my_ae)\n",
    "\n",
    "# Add a requested presentation context\n",
    "ae.add_requested_context(StudyRootQueryRetrieveInformationModelFind)"
   ]
  },
  {
   "cell_type": "code",
   "execution_count": null,
   "metadata": {},
   "outputs": [],
   "source": [
    "def make_folder(folder):\n",
    "    if not os.path.isdir(folder):\n",
    "        os.mkdir(folder)"
   ]
  },
  {
   "cell_type": "code",
   "execution_count": null,
   "metadata": {},
   "outputs": [],
   "source": [
    "def create_ds(acc):\n",
    "    ds = Dataset()\n",
    "    ds.QueryRetrieveLevel = 'STUDY'\n",
    "    ds.AccessionNumber = acc\n",
    "    ds.StudyInstanceUID = ''\n",
    "    return ds"
   ]
  },
  {
   "cell_type": "code",
   "execution_count": null,
   "metadata": {},
   "outputs": [],
   "source": [
    "def make_study_folder(acc):\n",
    "    os.mkdir(os.path.join(output_dir, acc))"
   ]
  },
  {
   "cell_type": "code",
   "execution_count": null,
   "metadata": {},
   "outputs": [],
   "source": [
    "def find_study(acc):\n",
    "    outputFrame = pd.DataFrame()\n",
    "    # Associate with peer AE at IP 127.0.0.1 and port 11112\n",
    "    assoc = ae.associate(pacs_ip, pacs_port, ae_title = pacs_ae)\n",
    "    if assoc.is_established:\n",
    "        # Use the C-FIND service to send the identifier\n",
    "        # A query_model value of 'P' means use the 'Patient Root Query Retrieve\n",
    "        #     Information Model - Find' presentation context\n",
    "        responses = assoc.send_c_find(ds, query_model='S')\n",
    "        for (status, identifier) in responses:\n",
    "            if status:\n",
    "                # If the status is 'Pending' then identifier is the C-FIND response\n",
    "                if status.Status in (0xFF00, 0xFF01):\n",
    "                    outputFrame = outputFrame.append({'AccessionNumber':identifier.AccessionNumber,'StudyInstanceUID':identifier.StudyInstanceUID}, ignore_index=True)\n",
    "            else:\n",
    "                outputFrame = outputFrame.append({'AccessionNumber':ds.AccessionNumber,'StudyInstanceUID':'Error'}, ignore_index=True)\n",
    "\n",
    "\n",
    "\n",
    "    else:\n",
    "        print('Association rejected, aborted or never connected')\n",
    "    # Release the association\n",
    "    assoc.release()\n",
    "    return outputFrame\n"
   ]
  },
  {
   "cell_type": "code",
   "execution_count": null,
   "metadata": {},
   "outputs": [],
   "source": [
    "def handle_store(event):\n",
    "#     print(\"handle_store called\")\n",
    "    \"\"\"Handle a C-STORE request event.\"\"\"\n",
    "    ds = event.dataset\n",
    "    context = event.context\n",
    "    # Set the transfer syntax attributes of the dataset\n",
    "    ds.is_little_endian = context.transfer_syntax.is_little_endian\n",
    "    ds.is_implicit_VR = context.transfer_syntax.is_implicit_VR  \n",
    "    # Save the dataset using the SOP Instance UID as the filename\n",
    "    output = os.path.join(output_dir, ds.AccessionNumber, ds.SOPInstanceUID + \".dcm\")\n",
    "#     print(output)\n",
    "    ds.save_as(output, write_like_original=False)\n",
    "\n",
    "    # Return a 'Success' status\n",
    "    return 0x0000\n",
    "\n",
    "def data_recv(event):\n",
    "#     print(\"data recieved\")\n",
    "#     print(event)\n",
    "    return 0x0000\n",
    "\n",
    "def established(event):\n",
    "    print(\"association established\")\n",
    "    return 0x0000\n",
    "def rejected(event):\n",
    "    print(\"association rejected\")\n",
    "    return 0x0000\n",
    "def accepted(event):\n",
    "    print(\"association accepted\")\n",
    "    return 0x0000\n",
    "def aborted(event):\n",
    "    print(\"association aborted\")\n",
    "    return 0x0000"
   ]
  },
  {
   "cell_type": "code",
   "execution_count": null,
   "metadata": {},
   "outputs": [],
   "source": [
    "def create_move_ds(AccessionNumber, StudyInstanceUID):\n",
    "    ds = Dataset()\n",
    "    ds.QueryRetrieveLevel = 'STUDY'\n",
    "    ds.AccessionNumber = AccessionNumber\n",
    "    ds.StudyInstanceUID = StudyInstanceUID\n",
    "    return ds"
   ]
  },
  {
   "cell_type": "code",
   "execution_count": null,
   "metadata": {},
   "outputs": [],
   "source": [
    "handlers = [(evt.EVT_ESTABLISHED, established),\n",
    "        (evt.EVT_REJECTED, rejected),\n",
    "        (evt.EVT_ACCEPTED, accepted),\n",
    "        (evt.EVT_ABORTED, aborted),\n",
    "        (evt.EVT_C_MOVE, handle_store),\n",
    "        (evt.EVT_C_STORE, handle_store),\n",
    "        (evt.EVT_DATA_RECV, data_recv)]\n",
    "\n",
    "def start_move_ae():\n",
    "    # Initialise the Application Entity\n",
    "    ae = AE()\n",
    "\n",
    "    # Add a requested presentation context\n",
    "    ae.add_requested_context(StudyRootQueryRetrieveInformationModelMove)\n",
    "\n",
    "    # Add the Storage SCP's supported presentation contexts\n",
    "    ae.supported_contexts = StoragePresentationContexts\n",
    "\n",
    "    # Start our Storage SCP in non-blocking mode, listening on port 11120\n",
    "    ae.ae_title = my_ae\n",
    "    \n",
    "    return ae\n",
    "\n",
    "def start_scp():\n",
    "    scp = ae.start_server((my_ip, my_port), block=False, evt_handlers=handlers, ae_title=pacs_ae)\n",
    "    return scp\n"
   ]
  },
  {
   "cell_type": "code",
   "execution_count": null,
   "metadata": {},
   "outputs": [],
   "source": [
    "def move_study(ds):\n",
    "    assoc = ae.associate(pacs_ip, pacs_port, ae_title=pacs_ae)\n",
    "    if assoc.is_established:\n",
    "    # Use the C-MOVE service to send the identifier\n",
    "        responses = assoc.send_c_move(ds, my_ae, StudyRootQueryRetrieveInformationModelMove)\n",
    "        for (status, identifier) in responses:\n",
    "            if status:\n",
    "#                 print('C-MOVE query status: 0x{0:04x}'.format(status.Status))\n",
    "                # If the status is 'Pending' then `identifier` is the C-MOVE response\n",
    "                if status.Status in (0xFF00, 0xFF01):\n",
    "                    pass\n",
    "#                     print(identifier)\n",
    "            else:\n",
    "                print('Connection timed out, was aborted or received invalid response')\n",
    "    else:\n",
    "        print('Association rejected, aborted or never connected')\n",
    "    assoc.release()\n"
   ]
  },
  {
   "cell_type": "code",
   "execution_count": null,
   "metadata": {},
   "outputs": [],
   "source": [
    "with open(acc_csv, 'r') as f:\n",
    "    reader = csv.reader(f)\n",
    "    acc_list = list(reader)\n",
    "    \n",
    "studies = pd.DataFrame()\n",
    "\n",
    "for(acc) in acc_list:\n",
    "    ds = create_ds(acc)\n",
    "    studies = studies.append(find_study(ds), ignore_index=True)"
   ]
  },
  {
   "cell_type": "code",
   "execution_count": null,
   "metadata": {},
   "outputs": [],
   "source": [
    "make_folder(output_dir)\n",
    "# handlers = set_handlers()\n",
    "ae = start_move_ae()\n",
    "scp = start_scp()"
   ]
  },
  {
   "cell_type": "code",
   "execution_count": null,
   "metadata": {},
   "outputs": [],
   "source": [
    "for index, row in studies.iterrows():\n",
    "    make_study_folder(row[\"AccessionNumber\"])\n",
    "    ds = create_move_ds(row[\"AccessionNumber\"], row[\"StudyInstanceUID\"])\n",
    "    move_study(ds)"
   ]
  },
  {
   "cell_type": "code",
   "execution_count": null,
   "metadata": {},
   "outputs": [],
   "source": [
    "# Stop our Storage SCP\n",
    "scp.shutdown()"
   ]
  }
 ],
 "metadata": {
  "kernelspec": {
   "display_name": "Python 3",
   "language": "python",
   "name": "python3"
  },
  "language_info": {
   "codemirror_mode": {
    "name": "ipython",
    "version": 3
   },
   "file_extension": ".py",
   "mimetype": "text/x-python",
   "name": "python",
   "nbconvert_exporter": "python",
   "pygments_lexer": "ipython3",
   "version": "3.7.4"
  }
 },
 "nbformat": 4,
 "nbformat_minor": 2
}
